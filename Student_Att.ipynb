{
 "cells": [
  {
   "cell_type": "markdown",
   "metadata": {},
   "source": [
    "# **1.3: Student Attendance**\n",
    "# By student no: F216727"
   ]
  },
  {
   "cell_type": "markdown",
   "metadata": {},
   "source": [
    "## Import the libraries"
   ]
  },
  {
   "cell_type": "code",
   "execution_count": 1,
   "metadata": {},
   "outputs": [],
   "source": [
    "import pandas as pd\n",
    "import numpy as np\n",
    "import sqlite3 \n",
    "import matplotlib.pyplot as plt"
   ]
  },
  {
   "cell_type": "markdown",
   "metadata": {},
   "source": [
    "## Functions"
   ]
  },
  {
   "cell_type": "markdown",
   "metadata": {},
   "source": [
    "### Read the dataframe (Create a table and plot a bar chart)"
   ]
  },
  {
   "cell_type": "code",
   "execution_count": 2,
   "metadata": {},
   "outputs": [],
   "source": [
    "# Using inner joins for df sessions with the student attendance df for COA111 and COA122\n",
    "def get_stuAtt(id):\n",
    "    \n",
    "    sqlstrcoa111=\"\"\"\n",
    "    SELECT stucoa111.*, coa111sessions.week\n",
    "    FROM coa111sessions INNER JOIN stucoa111\n",
    "    ON stucoa111.session_no = coa111sessions.session_no;\n",
    "    \"\"\"\n",
    "    conn = sqlite3.connect('CWDatabase.db')\n",
    "    stuAttcoa111 = pd.read_sql(sqlstrcoa111,\n",
    "                                con=conn,\n",
    "                                index_col=[\"session_no\"])\n",
    "    stuAttcoa111 = stuAttcoa111.groupby(\"week\").mean(1) * 100 \n",
    "    stuAttcoa111 = stuAttcoa111.round() \n",
    "\n",
    "    attcoa111 = stuAttcoa111.loc[:, [id]] \n",
    "\n",
    "    sqlstrcoa122=\"\"\"\n",
    "    SELECT stucoa122.*, coa122sessions.week\n",
    "    FROM coa122sessions INNER JOIN stucoa122\n",
    "    ON stucoa122.session_no = coa122sessions.session_no;\n",
    "    \"\"\"\n",
    "    conn = sqlite3.connect('CWDatabase.db')\n",
    "    stuAttcoa122 = pd.read_sql(sqlstrcoa122,\n",
    "                                con=conn,\n",
    "                                index_col=[\"session_no\"])\n",
    "    stuAttcoa122 = stuAttcoa122.groupby(\"week\").mean(1) * 100 \n",
    "    stuAttcoa122 = stuAttcoa122.round() \n",
    "   \n",
    "    attcoa122 = stuAttcoa122.loc[:, [id]]\n",
    "    \n",
    "    # using concatenate to link both modules in the same table \n",
    "    attmodules = pd.concat([attcoa111, attcoa122], axis = 1, keys = ['COA111', 'COA122']) \n",
    "   \n",
    "    # plotting the bar chart\n",
    "    attmodules.plot.bar() \n",
    "    attmodules = attmodules.replace({np.nan: 'No Attendance'})\n",
    "    plt.title(\"Student Attendance Record COA111/122 of Student ID:\") \n",
    "    plt.legend() \n",
    "    plt.ylabel(\"Attendance (%)\") \n",
    "    plt.xlabel(\"Week_number\") \n",
    "    plt.show() \n",
    "\n",
    "    return attmodules "
   ]
  },
  {
   "cell_type": "markdown",
   "metadata": {},
   "source": [
    "## Main code (the student attendance) input function:"
   ]
  },
  {
   "cell_type": "code",
   "execution_count": 3,
   "metadata": {},
   "outputs": [],
   "source": [
    "def stu_att_main(stu_id): \n",
    "    # using try and except if there is no information for particular student ID\n",
    "    try:\n",
    "        stuatt = get_stuAtt(str(stu_id))\n",
    "        display(stuatt)\n",
    "    except:\n",
    "        print(\"This student ID does not exist. Please insert again!\")"
   ]
  },
  {
   "cell_type": "markdown",
   "metadata": {},
   "source": [
    "### Testing (student attendance)"
   ]
  },
  {
   "cell_type": "code",
   "execution_count": 4,
   "metadata": {},
   "outputs": [
    {
     "data": {
      "image/png": "[encoded data removed]",
      "text/plain": [
       "<Figure size 432x288 with 1 Axes>"
      ]
     },
     "metadata": {
      "needs_background": "light"
     },
     "output_type": "display_data"
    },
    {
     "data": {
      "text/html": [
       "<div>\n",
       "<style scoped>\n",
       "    .dataframe tbody tr th:only-of-type {\n",
       "        vertical-align: middle;\n",
       "    }\n",
       "\n",
       "    .dataframe tbody tr th {\n",
       "        vertical-align: top;\n",
       "    }\n",
       "\n",
       "    .dataframe thead tr th {\n",
       "        text-align: left;\n",
       "    }\n",
       "\n",
       "    .dataframe thead tr:last-of-type th {\n",
       "        text-align: right;\n",
       "    }\n",
       "</style>\n",
       "<table border=\"1\" class=\"dataframe\">\n",
       "  <thead>\n",
       "    <tr>\n",
       "      <th></th>\n",
       "      <th>COA111</th>\n",
       "      <th>COA122</th>\n",
       "    </tr>\n",
       "    <tr>\n",
       "      <th></th>\n",
       "      <th>0</th>\n",
       "      <th>0</th>\n",
       "    </tr>\n",
       "    <tr>\n",
       "      <th>week</th>\n",
       "      <th></th>\n",
       "      <th></th>\n",
       "    </tr>\n",
       "  </thead>\n",
       "  <tbody>\n",
       "    <tr>\n",
       "      <th>W1</th>\n",
       "      <td>100.0</td>\n",
       "      <td>100.0</td>\n",
       "    </tr>\n",
       "    <tr>\n",
       "      <th>W2</th>\n",
       "      <td>50.0</td>\n",
       "      <td>50.0</td>\n",
       "    </tr>\n",
       "    <tr>\n",
       "      <th>W3</th>\n",
       "      <td>100.0</td>\n",
       "      <td>0.0</td>\n",
       "    </tr>\n",
       "    <tr>\n",
       "      <th>W4</th>\n",
       "      <td>50.0</td>\n",
       "      <td>33.0</td>\n",
       "    </tr>\n",
       "    <tr>\n",
       "      <th>W5</th>\n",
       "      <td>0.0</td>\n",
       "      <td>50.0</td>\n",
       "    </tr>\n",
       "    <tr>\n",
       "      <th>W6</th>\n",
       "      <td>No Attendance</td>\n",
       "      <td>0.0</td>\n",
       "    </tr>\n",
       "  </tbody>\n",
       "</table>\n",
       "</div>"
      ],
      "text/plain": [
       "             COA111 COA122\n",
       "                  0      0\n",
       "week                      \n",
       "W1            100.0  100.0\n",
       "W2             50.0   50.0\n",
       "W3            100.0    0.0\n",
       "W4             50.0   33.0\n",
       "W5              0.0   50.0\n",
       "W6    No Attendance    0.0"
      ]
     },
     "metadata": {},
     "output_type": "display_data"
    }
   ],
   "source": [
    "stu_att_main(0)\n",
    "# please insert the student numbers inside the brackets to test "
   ]
  },
  {
   "cell_type": "code",
   "execution_count": null,
   "metadata": {},
   "outputs": [],
   "source": []
  }
 ],
 "metadata": {
  "kernelspec": {
   "display_name": "Python 3 (ipykernel)",
   "language": "python",
   "name": "python3"
  },
  "language_info": {
   "codemirror_mode": {
    "name": "ipython",
    "version": 3
   },
   "file_extension": ".py",
   "mimetype": "text/x-python",
   "name": "python",
   "nbconvert_exporter": "python",
   "pygments_lexer": "ipython3",
   "version": "3.9.12"
  },
  "vscode": {
   "interpreter": {
    "hash": "aee8b7b246df8f9039afb4144a1f6fd8d2ca17a180786b69acc140d282b71a49"
   }
  }
 },
 "nbformat": 4,
 "nbformat_minor": 2
}
