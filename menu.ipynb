{
 "cells": [
  {
   "cell_type": "markdown",
   "metadata": {},
   "source": [
    "# **Create a menu (GUI)**\n",
    "# By student no: F216727"
   ]
  },
  {
   "cell_type": "markdown",
   "metadata": {},
   "source": [
    "### Import the libraries and files (installed ipywidgets package)"
   ]
  },
  {
   "cell_type": "code",
   "execution_count": 1,
   "metadata": {},
   "outputs": [],
   "source": [
    "import pandas as pd\n",
    "import ipynb\n",
    "import ipywidgets as widgets\n",
    "from ipynb.fs.defs.Student_Att import * \n",
    "from ipynb.fs.defs.Module_Att import *\n",
    "from ipynb.fs.defs.Poor_Att import *"
   ]
  },
  {
   "cell_type": "markdown",
   "metadata": {},
   "source": [
    "### Functions"
   ]
  },
  {
   "cell_type": "code",
   "execution_count": 2,
   "metadata": {},
   "outputs": [],
   "source": [
    "def stu_att_main(b0): # Checking student attendance (import from 1.3 Student_Att)\n",
    "    with output:\n",
    "         output.clear_output()\n",
    "         try:\n",
    "            stu_att = get_stuAtt(btnModuleAtt.value)\n",
    "            display(stu_att)\n",
    "         except:\n",
    "            print(\"This student ID does not exist. Please insert again! [ID: 0-242]\")\n",
    "            \n",
    "def main_module(b1): # Checking module attendance (import from 1.4 Module_Att)\n",
    "    with output:\n",
    "        output.clear_output()\n",
    "        main_module_att(btnStuAtt.value, btnweekno.value) \n",
    "        \n",
    "def main_poor_stu(b2): # top ten low attendance students (import from 1.5 Poor_Att)\n",
    "    with output:\n",
    "        output.clear_output()\n",
    "        poorstuAtt = main_poor_att()\n",
    "        \n",
    "def main_all_avg_att(b4): # all student average attendace (import from 1.5 Poor_Att)\n",
    "    with output:\n",
    "        output.clear_output()\n",
    "        allavgAtt = all_Stu_avg_att()\n",
    "\n",
    "\n",
    "def clicked_clear_output(b0): # create a clear output when pressing to display\n",
    "    output.clear_output()"
   ]
  },
  {
   "cell_type": "markdown",
   "metadata": {},
   "source": [
    "### Create a menu"
   ]
  },
  {
   "cell_type": "code",
   "execution_count": 3,
   "metadata": {
    "scrolled": false
   },
   "outputs": [
    {
     "data": {
      "application/vnd.jupyter.widget-view+json": {
       "model_id": "86cc281d3421422cb551746d5a15bf0e",
       "version_major": 2,
       "version_minor": 0
      },
      "text/plain": [
       "VBox(children=(HBox(children=(Text(value='', description='Student ID:', layout=Layout(padding='0px 0px 0px 4px…"
      ]
     },
     "metadata": {},
     "output_type": "display_data"
    },
    {
     "data": {
      "application/vnd.jupyter.widget-view+json": {
       "model_id": "736f5691afa4418f80add14ac20b4c7e",
       "version_major": 2,
       "version_minor": 0
      },
      "text/plain": [
       "VBox(children=(HBox(children=(Button(description='Clear', style=ButtonStyle()),), layout=Layout(align_items='s…"
      ]
     },
     "metadata": {},
     "output_type": "display_data"
    }
   ],
   "source": [
    "# create components\n",
    "\n",
    "# widget size setting\n",
    "widget_width = \"250px\"\n",
    "padding = \"0px 0px 0px 4px\"\n",
    "\n",
    "# widgets for each part by text, dropdown and button\n",
    "btnModuleAtt = widgets.Text(\n",
    "    value = \"\", \n",
    "    description = \"Student ID:\",\n",
    "    placeholder = \"Student ID (0-242)\",\n",
    "    style = {\"description_width\": \"initial\"},\n",
    "    layout = widgets.Layout(width = widget_width, padding = padding),)\n",
    "\n",
    "\n",
    "btnStuAtt = widgets.Dropdown(\n",
    "    options = [\"COA111\", \"COA122\"],\n",
    "    description = \"Module Code:\",\n",
    "    layout = widgets.Layout(width = widget_width, padding = padding),\n",
    "    style = {\"description_width\": \"initial\"})\n",
    "\n",
    "btnweekno = widgets.Text(\n",
    "    value = \"\",\n",
    "        description = \"Week Number:\",\n",
    "        placeholder = \"Week No: 1-6\",\n",
    "        style = {\"description_width\": \"initial\"},\n",
    "        layout = widgets.Layout(width = widget_width, padding = padding))\n",
    "\n",
    "btncheckstuAtt = widgets.Button(\n",
    "    description='Check Attendance',\n",
    "    disabled=False,\n",
    "    button_style='success', # change the color style\n",
    "    tooltip='Click to check',\n",
    "    icon='check')\n",
    "\n",
    "btnPoorAtt = widgets.Button(\n",
    "    description='Low Attendance',\n",
    "    disabled=False,\n",
    "    button_style='danger', # change the color style\n",
    "    tooltip='Click me',\n",
    "    icon='bullhorn' # change the icon\n",
    ")\n",
    "\n",
    "btnAvgstuAtt = widgets.Button(\n",
    "    description='Avg Attendance',\n",
    "    disabled=False,\n",
    "    button_style='info',\n",
    "    tooltip='Click me',\n",
    "    icon='bullhorn' # change the icon\n",
    ")\n",
    "\n",
    "btnClear = widgets.Button(description='Clear')\n",
    "output = widgets.Output()\n",
    "\n",
    "# Layout (set up a layout and styling for each widgets)\n",
    "b0 = widgets.HBox([btnModuleAtt], layout = widgets.Layout(display = 'flex',flex_flow = 'row',\n",
    "                                                                   align_items = 'stretch',\n",
    "                                                                   border = 'solid',\n",
    "                                                                   width = '35%'))\n",
    "\n",
    "b1 = widgets.HBox([btnStuAtt,btnweekno,btncheckstuAtt], layout = widgets.Layout(display = 'flex',\n",
    "                                                                                flex_flow = 'column',\n",
    "                                                                 align_items = 'stretch',\n",
    "                                                                 border = 'solid',\n",
    "                                                                 width = '30%'))\n",
    "\n",
    "b2 = widgets.HBox([btnPoorAtt],layout = widgets.Layout(display = 'flex',flex_flow = 'column',\n",
    "                                                                 align_items = 'stretch',\n",
    "                                                                 border = 'solid',\n",
    "                                                                 width = '18%'))\n",
    "\n",
    "b3 = widgets.HBox([btnClear],layout = widgets.Layout(display = 'flex',flex_flow = 'column',\n",
    "                                                                 align_items = 'stretch',\n",
    "                                                                 border = 'solid',\n",
    "                                                                 width = '17.6%'))\n",
    "\n",
    "b4 = widgets.HBox([btnAvgstuAtt],layout = widgets.Layout(display = 'flex',flex_flow = 'column',\n",
    "                                                                 align_items = 'stretch',\n",
    "                                                                 border = 'solid',\n",
    "                                                                 width = '18%'))\n",
    "\n",
    "allw = widgets.VBox([b0,b1,b2,b4],layout = widgets.Layout(display = 'flex',flex_flow = 'row',\n",
    "                                                                 align_items = 'stretch',\n",
    "                                                                 border = 'solid',\n",
    "                                                                 width = '90%'))\n",
    "\n",
    "allwOutput = widgets.VBox([b3,output],layout = widgets.Layout(display = 'flex',flex_flow = 'row',\n",
    "                                                                 align_items = 'stretch',\n",
    "                                                                 border = 'solid',\n",
    "                                                                 width = '90%'))\n",
    "\n",
    "# Interaction \n",
    "btnModuleAtt.on_submit(stu_att_main) # using on submit by pressing enter button to display the output\n",
    "btncheckstuAtt.on_click(main_module) \n",
    "btnPoorAtt.on_click(main_poor_stu)\n",
    "btnAvgstuAtt.on_click(main_all_avg_att)\n",
    "btnClear.on_click(clicked_clear_output)\n",
    "\n",
    "# display the widgets and the outputs\n",
    "display(allw)\n",
    "display(allwOutput)"
   ]
  },
  {
   "cell_type": "code",
   "execution_count": null,
   "metadata": {},
   "outputs": [],
   "source": []
  },
  {
   "cell_type": "code",
   "execution_count": null,
   "metadata": {},
   "outputs": [],
   "source": []
  },
  {
   "cell_type": "code",
   "execution_count": null,
   "metadata": {},
   "outputs": [],
   "source": []
  }
 ],
 "metadata": {
  "kernelspec": {
   "display_name": "Python 3 (ipykernel)",
   "language": "python",
   "name": "python3"
  },
  "language_info": {
   "codemirror_mode": {
    "name": "ipython",
    "version": 3
   },
   "file_extension": ".py",
   "mimetype": "text/x-python",
   "name": "python",
   "nbconvert_exporter": "python",
   "pygments_lexer": "ipython3",
   "version": "3.9.12"
  },
  "vscode": {
   "interpreter": {
    "hash": "aee8b7b246df8f9039afb4144a1f6fd8d2ca17a180786b69acc140d282b71a49"
   }
  }
 },
 "nbformat": 4,
 "nbformat_minor": 2
}
