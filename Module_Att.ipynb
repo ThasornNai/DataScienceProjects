{
 "cells": [
  {
   "cell_type": "markdown",
   "metadata": {},
   "source": [
    "# **1.4 Module Attendance**\n",
    "# By student no: F216727"
   ]
  },
  {
   "cell_type": "markdown",
   "metadata": {},
   "source": [
    "## Import the libraries"
   ]
  },
  {
   "cell_type": "code",
   "execution_count": 8,
   "metadata": {},
   "outputs": [],
   "source": [
    "import pandas as pd\n",
    "import numpy as np\n",
    "import sqlite3 \n",
    "import matplotlib.pyplot as plt"
   ]
  },
  {
   "cell_type": "markdown",
   "metadata": {},
   "source": [
    "## Functions"
   ]
  },
  {
   "cell_type": "markdown",
   "metadata": {},
   "source": [
    "### Color code & Format output"
   ]
  },
  {
   "cell_type": "code",
   "execution_count": 2,
   "metadata": {},
   "outputs": [],
   "source": [
    "def color_code(att):\n",
    "    \"\"\"\n",
    "    Setting background Colors \n",
    "    of table cells \n",
    "    value is a cell value. \n",
    "    \"\"\"\n",
    "    if att < 50:\n",
    "        colour = 'red'\n",
    "    elif att < 60:\n",
    "        colour = 'yellow'\n",
    "    elif att < 70:\n",
    "        colour = 'dodgerblue'\n",
    "    else:\n",
    "        colour = 'limegreen'\n",
    "    styler = f'background-color: {colour}'\n",
    "    return styler\n",
    "\n",
    "def format_output(dfData):\n",
    "    \"\"\"\n",
    "    applying formatting function to the dataframe.\n",
    "    \"\"\"\n",
    "    styledOutput = dfData.style.applymap(color_code, subset = ['Attendance %']).format('{:.1f}', \n",
    "                                                     subset = ['Attendance %'])\n",
    "\n",
    "    return styledOutput"
   ]
  },
  {
   "cell_type": "markdown",
   "metadata": {},
   "source": [
    "### Module Attendance for COA111 & COA122"
   ]
  },
  {
   "cell_type": "code",
   "execution_count": 3,
   "metadata": {},
   "outputs": [],
   "source": [
    "def stu_Att_modules(code,weekno):\n",
    "    \"\"\"\n",
    "    Using inner join to combine sessions with student records \n",
    "    \"\"\"\n",
    "    # reading coa111 and using the inner join \n",
    "    sqlattcoa111 = \"\"\"\n",
    "    SELECT stucoa111.*, coa111sessions.week,\n",
    "                        coa111sessions.time,\n",
    "                        coa111sessions.room,\n",
    "                        coa111sessions.type\n",
    "    \n",
    "    FROM coa111sessions INNER JOIN stucoa111 \n",
    "    ON stucoa111.session_no = coa111sessions.session_no;\n",
    "    \"\"\"\n",
    "    conn = sqlite3.connect('CWDatabase.db')\n",
    "    modulecoa111 = pd.read_sql(sqlattcoa111,\n",
    "                                con=conn,\n",
    "                                index_col=[\"session_no\"])\n",
    "    \n",
    "    percent_rec_coa111 = modulecoa111\n",
    "    percent_rec_coa111 = (percent_rec_coa111.groupby(['week','time','room', 'type']) \n",
    "                         .sum(numeric_only=True) / percent_rec_coa111\n",
    "                         .groupby(['week','time','room', 'type']).count()) * 100\n",
    "                         \n",
    "    att_rec_coa111sessions = percent_rec_coa111.transpose().mean().round(1) \n",
    "    att_rec_coa111sessions = att_rec_coa111sessions.reset_index()\n",
    "    att_rec_coa111sessions = att_rec_coa111sessions.set_index(\"week\")\n",
    "    \n",
    "    \"\"\"\n",
    "    Using 'if' in order to read coa111 if the number of week number are only available in this module. \n",
    "    Then using return function to display with the format output for coa111.\n",
    "    \"\"\"\n",
    "    if code == \"COA111\":\n",
    "        att_rec_coa111_sessionsT = att_rec_coa111sessions.loc[weekno]\n",
    "        att_rec_coa111_sessionsT.columns = [\"time\", \"room\", \"type\", \"Attendance %\"]\n",
    "        att_rec_coa111_sessionsT = att_rec_coa111_sessionsT.reset_index()\n",
    "        colorcoa111 = format_output(att_rec_coa111_sessionsT)\n",
    "        return display(colorcoa111)\n",
    "\n",
    "# reading from the SQL coa122 and using the inner join\n",
    "    sqlattcoa122 = \"\"\"\n",
    "    SELECT stucoa122.*, coa122sessions.week,\n",
    "                        coa122sessions.time,\n",
    "                        coa122sessions.room,\n",
    "                        coa122sessions.type\n",
    "\n",
    "    FROM coa122sessions INNER JOIN stucoa122\n",
    "    ON stucoa122.session_no = coa122sessions.session_no;\n",
    "    \"\"\"\n",
    "    conn = sqlite3.connect('CWDatabase.db')\n",
    "    modulecoa122 = pd.read_sql(sqlattcoa122,\n",
    "                                con=conn,\n",
    "                                index_col=[\"session_no\"])\n",
    "    percent_rec_coa122 = modulecoa122\n",
    "    percent_rec_coa122 = (percent_rec_coa122.groupby(['week','time','room', 'type']) \n",
    "                         .sum(numeric_only=True) / percent_rec_coa122\n",
    "                         .groupby(['week','time','room', 'type']).count()) * 100\n",
    "\n",
    "    att_rec_coa122sessions = percent_rec_coa122.transpose().mean().round(1)\n",
    "    att_rec_coa122_sessions = att_rec_coa122sessions.reset_index()\n",
    "    att_rec_coa122_sessions = att_rec_coa122_sessions.set_index(\"week\")\n",
    "    \n",
    "    if code == \"COA122\" :\n",
    "        att_rec_coa122_sessionsT = att_rec_coa122_sessions.loc[[weekno]]\n",
    "        att_rec_coa122_sessionsT.columns = [\"time\", \"room\", \"type\", \"Attendance %\"]\n",
    "        att_rec_coa122_sessionsT = att_rec_coa122_sessionsT.reset_index()\n",
    "        colorcoa122 = format_output(att_rec_coa122_sessionsT)\n",
    "        return display(colorcoa122)"
   ]
  },
  {
   "cell_type": "markdown",
   "metadata": {},
   "source": [
    "### Main code (module attendance)"
   ]
  },
  {
   "cell_type": "code",
   "execution_count": 4,
   "metadata": {},
   "outputs": [],
   "source": [
    "def main_module_att(module_id,week_number):\n",
    "    try:\n",
    "        week_number = \"W\" + str(week_number)\n",
    "        moduleWeekno = stu_Att_modules(module_id,week_number)\n",
    "    except:\n",
    "        print('This week number does not exist. Please, insert again! [Week: 1-6]')"
   ]
  },
  {
   "cell_type": "markdown",
   "metadata": {},
   "source": [
    "### Testing (module attendance)"
   ]
  },
  {
   "cell_type": "code",
   "execution_count": 7,
   "metadata": {},
   "outputs": [
    {
     "data": {
      "text/html": [
       "<style type=\"text/css\">\n",
       "#T_9ff23_row0_col4 {\n",
       "  background-color: limegreen;\n",
       "}\n",
       "</style>\n",
       "<table id=\"T_9ff23\">\n",
       "  <thead>\n",
       "    <tr>\n",
       "      <th class=\"blank level0\" >&nbsp;</th>\n",
       "      <th id=\"T_9ff23_level0_col0\" class=\"col_heading level0 col0\" >week</th>\n",
       "      <th id=\"T_9ff23_level0_col1\" class=\"col_heading level0 col1\" >time</th>\n",
       "      <th id=\"T_9ff23_level0_col2\" class=\"col_heading level0 col2\" >room</th>\n",
       "      <th id=\"T_9ff23_level0_col3\" class=\"col_heading level0 col3\" >type</th>\n",
       "      <th id=\"T_9ff23_level0_col4\" class=\"col_heading level0 col4\" >Attendance %</th>\n",
       "    </tr>\n",
       "  </thead>\n",
       "  <tbody>\n",
       "    <tr>\n",
       "      <th id=\"T_9ff23_level0_row0\" class=\"row_heading level0 row0\" >0</th>\n",
       "      <td id=\"T_9ff23_row0_col0\" class=\"data row0 col0\" >W6</td>\n",
       "      <td id=\"T_9ff23_row0_col1\" class=\"data row0 col1\" >14:00 - 16:00</td>\n",
       "      <td id=\"T_9ff23_row0_col2\" class=\"data row0 col2\" >CC012</td>\n",
       "      <td id=\"T_9ff23_row0_col3\" class=\"data row0 col3\" >Lecture</td>\n",
       "      <td id=\"T_9ff23_row0_col4\" class=\"data row0 col4\" >78.8</td>\n",
       "    </tr>\n",
       "  </tbody>\n",
       "</table>\n"
      ],
      "text/plain": [
       "<pandas.io.formats.style.Styler at 0x7fc78cd2e610>"
      ]
     },
     "metadata": {},
     "output_type": "display_data"
    }
   ],
   "source": [
    "main_module_att(\"COA122\",6) # input the module code and week number for testing"
   ]
  },
  {
   "cell_type": "code",
   "execution_count": null,
   "metadata": {},
   "outputs": [],
   "source": []
  }
 ],
 "metadata": {
  "kernelspec": {
   "display_name": "Python 3 (ipykernel)",
   "language": "python",
   "name": "python3"
  },
  "language_info": {
   "codemirror_mode": {
    "name": "ipython",
    "version": 3
   },
   "file_extension": ".py",
   "mimetype": "text/x-python",
   "name": "python",
   "nbconvert_exporter": "python",
   "pygments_lexer": "ipython3",
   "version": "3.9.12"
  },
  "vscode": {
   "interpreter": {
    "hash": "aee8b7b246df8f9039afb4144a1f6fd8d2ca17a180786b69acc140d282b71a49"
   }
  }
 },
 "nbformat": 4,
 "nbformat_minor": 2
}
